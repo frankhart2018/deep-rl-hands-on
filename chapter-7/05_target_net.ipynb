{
 "cells": [
  {
   "cell_type": "markdown",
   "id": "intelligent-retention",
   "metadata": {},
   "source": [
    "# Import libraries"
   ]
  },
  {
   "cell_type": "code",
   "execution_count": 1,
   "id": "closing-minimum",
   "metadata": {},
   "outputs": [],
   "source": [
    "import ptan\n",
    "import torch.nn as nn"
   ]
  },
  {
   "cell_type": "markdown",
   "id": "empirical-headline",
   "metadata": {},
   "source": [
    "# Test NN"
   ]
  },
  {
   "cell_type": "code",
   "execution_count": 2,
   "id": "dress-manchester",
   "metadata": {},
   "outputs": [],
   "source": [
    "class DQNNet(nn.Module):\n",
    "    def __init__(self):\n",
    "        super(DQNNet, self).__init__()\n",
    "        \n",
    "        self.ff = nn.Linear(5, 3)\n",
    "        \n",
    "    def forward(self, x):\n",
    "        return self.ff(x)"
   ]
  },
  {
   "cell_type": "markdown",
   "id": "seasonal-ranking",
   "metadata": {},
   "source": [
    "# Instantiate NN"
   ]
  },
  {
   "cell_type": "code",
   "execution_count": 3,
   "id": "grand-rocket",
   "metadata": {},
   "outputs": [
    {
     "name": "stdout",
     "output_type": "stream",
     "text": [
      "DQNNet(\n",
      "  (ff): Linear(in_features=5, out_features=3, bias=True)\n",
      ")\n"
     ]
    }
   ],
   "source": [
    "net = DQNNet()\n",
    "print(net)"
   ]
  },
  {
   "cell_type": "markdown",
   "id": "eligible-officer",
   "metadata": {},
   "source": [
    "# Create target net"
   ]
  },
  {
   "cell_type": "code",
   "execution_count": 4,
   "id": "educational-catch",
   "metadata": {},
   "outputs": [
    {
     "name": "stdout",
     "output_type": "stream",
     "text": [
      "Main net: Parameter containing:\n",
      "tensor([[ 0.1235,  0.2126,  0.0866, -0.0449,  0.4043],\n",
      "        [-0.2248,  0.1968,  0.2820,  0.1606, -0.0464],\n",
      "        [ 0.0180,  0.2604,  0.1390,  0.0325,  0.1356]], requires_grad=True)\n",
      "Target net: Parameter containing:\n",
      "tensor([[ 0.1235,  0.2126,  0.0866, -0.0449,  0.4043],\n",
      "        [-0.2248,  0.1968,  0.2820,  0.1606, -0.0464],\n",
      "        [ 0.0180,  0.2604,  0.1390,  0.0325,  0.1356]], requires_grad=True)\n"
     ]
    }
   ],
   "source": [
    "tgt_net = ptan.agent.TargetNet(net)\n",
    "print(\"Main net:\", net.ff.weight)\n",
    "print(\"Target net:\", tgt_net.target_model.ff.weight)"
   ]
  },
  {
   "cell_type": "markdown",
   "id": "native-tradition",
   "metadata": {},
   "source": [
    "# After updating main net"
   ]
  },
  {
   "cell_type": "code",
   "execution_count": 5,
   "id": "japanese-original",
   "metadata": {},
   "outputs": [
    {
     "name": "stdout",
     "output_type": "stream",
     "text": [
      "After update\n",
      "Main net: Parameter containing:\n",
      "tensor([[1.1235, 1.2126, 1.0866, 0.9551, 1.4043],\n",
      "        [0.7752, 1.1968, 1.2820, 1.1606, 0.9536],\n",
      "        [1.0180, 1.2604, 1.1390, 1.0325, 1.1356]], requires_grad=True)\n",
      "Target net: Parameter containing:\n",
      "tensor([[ 0.1235,  0.2126,  0.0866, -0.0449,  0.4043],\n",
      "        [-0.2248,  0.1968,  0.2820,  0.1606, -0.0464],\n",
      "        [ 0.0180,  0.2604,  0.1390,  0.0325,  0.1356]], requires_grad=True)\n"
     ]
    }
   ],
   "source": [
    "net.ff.weight.data += 1.0\n",
    "print(\"After update\")\n",
    "print(\"Main net:\", net.ff.weight)\n",
    "print(\"Target net:\", tgt_net.target_model.ff.weight)"
   ]
  },
  {
   "cell_type": "markdown",
   "id": "executive-palestine",
   "metadata": {},
   "source": [
    "# Syncing target net with main net"
   ]
  },
  {
   "cell_type": "code",
   "execution_count": 6,
   "id": "binding-hypothesis",
   "metadata": {},
   "outputs": [
    {
     "name": "stdout",
     "output_type": "stream",
     "text": [
      "After sync\n",
      "Main net: Parameter containing:\n",
      "tensor([[1.1235, 1.2126, 1.0866, 0.9551, 1.4043],\n",
      "        [0.7752, 1.1968, 1.2820, 1.1606, 0.9536],\n",
      "        [1.0180, 1.2604, 1.1390, 1.0325, 1.1356]], requires_grad=True)\n",
      "Target net: Parameter containing:\n",
      "tensor([[1.1235, 1.2126, 1.0866, 0.9551, 1.4043],\n",
      "        [0.7752, 1.1968, 1.2820, 1.1606, 0.9536],\n",
      "        [1.0180, 1.2604, 1.1390, 1.0325, 1.1356]], requires_grad=True)\n"
     ]
    }
   ],
   "source": [
    "tgt_net.sync()\n",
    "print(\"After sync\")\n",
    "print(\"Main net:\", net.ff.weight)\n",
    "print(\"Target net:\", tgt_net.target_model.ff.weight)"
   ]
  }
 ],
 "metadata": {
  "kernelspec": {
   "display_name": "Python 3",
   "language": "python",
   "name": "python3"
  },
  "language_info": {
   "codemirror_mode": {
    "name": "ipython",
    "version": 3
   },
   "file_extension": ".py",
   "mimetype": "text/x-python",
   "name": "python",
   "nbconvert_exporter": "python",
   "pygments_lexer": "ipython3",
   "version": "3.7.9"
  }
 },
 "nbformat": 4,
 "nbformat_minor": 5
}
