{
 "cells": [
  {
   "cell_type": "markdown",
   "id": "traditional-vanilla",
   "metadata": {},
   "source": [
    "# Import Libraries"
   ]
  },
  {
   "cell_type": "code",
   "execution_count": 1,
   "id": "gross-radio",
   "metadata": {},
   "outputs": [],
   "source": [
    "import ptan\n",
    "import torch\n",
    "import torch.nn as nn"
   ]
  },
  {
   "cell_type": "markdown",
   "id": "regional-diagnosis",
   "metadata": {},
   "source": [
    "# Define NNs"
   ]
  },
  {
   "cell_type": "code",
   "execution_count": 2,
   "id": "norwegian-deposit",
   "metadata": {},
   "outputs": [],
   "source": [
    "class DQNNet(nn.Module):\n",
    "    def __init__(self, actions: int):\n",
    "        super(DQNNet, self).__init__()\n",
    "        \n",
    "        self.actions = actions\n",
    "        \n",
    "    def forward(self, x):\n",
    "        # We always produce diagonal tensor of shape (batch_size, actions)\n",
    "        return torch.eye(x.size()[0], self.actions)"
   ]
  },
  {
   "cell_type": "code",
   "execution_count": 3,
   "id": "offshore-touch",
   "metadata": {},
   "outputs": [],
   "source": [
    "class PolicyNet(nn.Module):\n",
    "    def __init__(self, actions: int):\n",
    "        super(PolicyNet, self).__init__()\n",
    "        \n",
    "        self.actions = actions\n",
    "    \n",
    "    def forward(self, x):\n",
    "        # Now we produce the tensor with first two actions having the same logit scores\n",
    "        shape = (x.size()[0], self.actions)\n",
    "        res = torch.zeros(shape, dtype=torch.float32)\n",
    "        res[:, 0] = 1\n",
    "        res[:, 1] = 1\n",
    "        \n",
    "        return res"
   ]
  },
  {
   "cell_type": "markdown",
   "id": "forced-adobe",
   "metadata": {},
   "source": [
    "# Test DQNNet NN"
   ]
  },
  {
   "cell_type": "code",
   "execution_count": 4,
   "id": "miniature-virtue",
   "metadata": {},
   "outputs": [],
   "source": [
    "net = DQNNet(actions=3)"
   ]
  },
  {
   "cell_type": "code",
   "execution_count": 5,
   "id": "amateur-adams",
   "metadata": {},
   "outputs": [
    {
     "data": {
      "text/plain": [
       "tensor([[1., 0., 0.],\n",
       "        [0., 1., 0.]])"
      ]
     },
     "execution_count": 5,
     "metadata": {},
     "output_type": "execute_result"
    }
   ],
   "source": [
    "net_out = net(torch.zeros(2, 10))\n",
    "net_out"
   ]
  },
  {
   "cell_type": "markdown",
   "id": "distinguished-recording",
   "metadata": {},
   "source": [
    "# DQN Agent with Argmax Action Selector"
   ]
  },
  {
   "cell_type": "code",
   "execution_count": 6,
   "id": "referenced-wilderness",
   "metadata": {},
   "outputs": [
    {
     "data": {
      "text/plain": [
       "(array([0, 1]), [None, None])"
      ]
     },
     "execution_count": 6,
     "metadata": {},
     "output_type": "execute_result"
    }
   ],
   "source": [
    "selector = ptan.actions.ArgmaxActionSelector()\n",
    "\n",
    "agent = ptan.agent.DQNAgent(dqn_model=net, action_selector=selector)\n",
    "ag_out = agent(torch.zeros(2, 5))\n",
    "ag_out # Tuple of actions for the batch and internal state (if any, otherwise None) of the agent"
   ]
  },
  {
   "cell_type": "markdown",
   "id": "fitting-shade",
   "metadata": {},
   "source": [
    "# DQN Agent with Epsilon Greedy Action Selector"
   ]
  },
  {
   "cell_type": "code",
   "execution_count": 7,
   "id": "usual-sullivan",
   "metadata": {},
   "outputs": [
    {
     "data": {
      "text/plain": [
       "(array([2, 0, 2, 1, 2, 1, 1, 2, 0, 2]),\n",
       " [None, None, None, None, None, None, None, None, None, None])"
      ]
     },
     "execution_count": 7,
     "metadata": {},
     "output_type": "execute_result"
    }
   ],
   "source": [
    "selector = ptan.actions.EpsilonGreedyActionSelector(epsilon=1.0)\n",
    "\n",
    "agent = ptan.agent.DQNAgent(dqn_model=net, action_selector=selector)\n",
    "ag_out = agent(torch.zeros(10, 5))\n",
    "ag_out"
   ]
  },
  {
   "cell_type": "code",
   "execution_count": 8,
   "id": "approximate-despite",
   "metadata": {},
   "outputs": [
    {
     "data": {
      "text/plain": [
       "(array([2, 1, 2, 0, 0, 0, 2, 2, 0, 0]),\n",
       " [None, None, None, None, None, None, None, None, None, None])"
      ]
     },
     "execution_count": 8,
     "metadata": {},
     "output_type": "execute_result"
    }
   ],
   "source": [
    "selector.epsilon = 0.5\n",
    "ag_out = agent(torch.zeros(10, 5))\n",
    "ag_out"
   ]
  },
  {
   "cell_type": "code",
   "execution_count": 9,
   "id": "weird-pregnancy",
   "metadata": {},
   "outputs": [
    {
     "data": {
      "text/plain": [
       "(array([0, 1, 2, 0, 0, 0, 0, 0, 0, 0]),\n",
       " [None, None, None, None, None, None, None, None, None, None])"
      ]
     },
     "execution_count": 9,
     "metadata": {},
     "output_type": "execute_result"
    }
   ],
   "source": [
    "selector.epsilon = 0.1\n",
    "ag_out = agent(torch.zeros(10, 5))\n",
    "ag_out"
   ]
  },
  {
   "cell_type": "markdown",
   "id": "aquatic-error",
   "metadata": {},
   "source": [
    "# Test PolicyNet NN"
   ]
  },
  {
   "cell_type": "code",
   "execution_count": 10,
   "id": "gross-snapshot",
   "metadata": {},
   "outputs": [],
   "source": [
    "net = PolicyNet(actions=5)"
   ]
  },
  {
   "cell_type": "code",
   "execution_count": 11,
   "id": "useful-alarm",
   "metadata": {},
   "outputs": [
    {
     "data": {
      "text/plain": [
       "tensor([[1., 1., 0., 0., 0.],\n",
       "        [1., 1., 0., 0., 0.],\n",
       "        [1., 1., 0., 0., 0.],\n",
       "        [1., 1., 0., 0., 0.],\n",
       "        [1., 1., 0., 0., 0.],\n",
       "        [1., 1., 0., 0., 0.]])"
      ]
     },
     "execution_count": 11,
     "metadata": {},
     "output_type": "execute_result"
    }
   ],
   "source": [
    "net_out = net(torch.zeros(6, 10))\n",
    "net_out"
   ]
  },
  {
   "cell_type": "markdown",
   "id": "romance-investigator",
   "metadata": {},
   "source": [
    "# Policy Agent with Probability Action Selector"
   ]
  },
  {
   "cell_type": "code",
   "execution_count": 12,
   "id": "taken-brazil",
   "metadata": {},
   "outputs": [
    {
     "data": {
      "text/plain": [
       "(array([1, 3, 1, 4, 0, 0]), [None, None, None, None, None, None])"
      ]
     },
     "execution_count": 12,
     "metadata": {},
     "output_type": "execute_result"
    }
   ],
   "source": [
    "selector = ptan.actions.ProbabilityActionSelector()\n",
    "\n",
    "agent = ptan.agent.PolicyAgent(model=net, action_selector=selector, apply_softmax=True)\n",
    "ag_out = agent(torch.zeros(6, 5))\n",
    "ag_out"
   ]
  }
 ],
 "metadata": {
  "kernelspec": {
   "display_name": "Python 3",
   "language": "python",
   "name": "python3"
  },
  "language_info": {
   "codemirror_mode": {
    "name": "ipython",
    "version": 3
   },
   "file_extension": ".py",
   "mimetype": "text/x-python",
   "name": "python",
   "nbconvert_exporter": "python",
   "pygments_lexer": "ipython3",
   "version": "3.7.9"
  }
 },
 "nbformat": 4,
 "nbformat_minor": 5
}
