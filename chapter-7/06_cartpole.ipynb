{
 "cells": [
  {
   "cell_type": "markdown",
   "id": "technological-small",
   "metadata": {},
   "source": [
    "# Import libraries"
   ]
  },
  {
   "cell_type": "code",
   "execution_count": 1,
   "id": "satellite-buddy",
   "metadata": {},
   "outputs": [],
   "source": [
    "import gym\n",
    "import ptan\n",
    "import torch\n",
    "import torch.nn as nn\n",
    "import torch.optim as optim\n",
    "import torch.nn.functional as F"
   ]
  },
  {
   "cell_type": "markdown",
   "id": "headed-syndication",
   "metadata": {},
   "source": [
    "# Hyperparameters"
   ]
  },
  {
   "cell_type": "code",
   "execution_count": 2,
   "id": "boring-cruise",
   "metadata": {},
   "outputs": [],
   "source": [
    "HIDDEN_SIZE = 128\n",
    "BATCH_SIZE = 16\n",
    "TGT_NET_SYNC = 10\n",
    "GAMMA = 0.9\n",
    "REPLAY_SIZE = 1000\n",
    "LR = 1e-3\n",
    "EPS_DECAY = 0.99"
   ]
  },
  {
   "cell_type": "markdown",
   "id": "posted-daniel",
   "metadata": {},
   "source": [
    "# NN"
   ]
  },
  {
   "cell_type": "code",
   "execution_count": 3,
   "id": "identified-sequence",
   "metadata": {},
   "outputs": [],
   "source": [
    "class Net(nn.Module):\n",
    "    def __init__(self, obs_size, hidden_size, n_actions):\n",
    "        super(Net, self).__init__()\n",
    "        \n",
    "        self.net = nn.Sequential(\n",
    "            nn.Linear(obs_size, hidden_size),\n",
    "            nn.ReLU(),\n",
    "            nn.Linear(hidden_size, n_actions)\n",
    "        )\n",
    "\n",
    "    def forward(self, x):\n",
    "        return self.net(x.float())"
   ]
  },
  {
   "cell_type": "markdown",
   "id": "favorite-trout",
   "metadata": {},
   "source": [
    "# Helper functions"
   ]
  },
  {
   "cell_type": "code",
   "execution_count": 4,
   "id": "proved-duration",
   "metadata": {},
   "outputs": [],
   "source": [
    "@torch.no_grad()\n",
    "def unpack_batch(batch, net, gamma):\n",
    "    states = []\n",
    "    actions = []\n",
    "    rewards = []\n",
    "    done_masks = []\n",
    "    last_states = []\n",
    "    for exp in batch:\n",
    "        states.append(exp.state)\n",
    "        actions.append(exp.action)\n",
    "        rewards.append(exp.reward)\n",
    "        done_masks.append(exp.last_state is None)\n",
    "        if exp.last_state is None:\n",
    "            last_states.append(exp.state)\n",
    "        else:\n",
    "            last_states.append(exp.last_state)\n",
    "\n",
    "    states_v = torch.tensor(states)\n",
    "    actions_v = torch.tensor(actions)\n",
    "    rewards_v = torch.tensor(rewards)\n",
    "    last_states_v = torch.tensor(last_states)\n",
    "    last_state_q_v = net(last_states_v)\n",
    "    best_last_q_v = torch.max(last_state_q_v, dim=1)[0]\n",
    "    best_last_q_v[done_masks] = 0.0\n",
    "    return states_v, actions_v, best_last_q_v * gamma + rewards_v"
   ]
  },
  {
   "cell_type": "markdown",
   "id": "satellite-battle",
   "metadata": {},
   "source": [
    "# Training"
   ]
  },
  {
   "cell_type": "code",
   "execution_count": 5,
   "id": "fabulous-observer",
   "metadata": {},
   "outputs": [],
   "source": [
    "env = gym.make(\"CartPole-v0\")\n",
    "obs_size = env.observation_space.shape[0]\n",
    "n_actions = env.action_space.n"
   ]
  },
  {
   "cell_type": "code",
   "execution_count": 6,
   "id": "frank-cambodia",
   "metadata": {},
   "outputs": [],
   "source": [
    "net = Net(obs_size, HIDDEN_SIZE, n_actions)\n",
    "tgt_net = ptan.agent.TargetNet(net)\n",
    "selector = ptan.actions.ArgmaxActionSelector()\n",
    "selector = ptan.actions.EpsilonGreedyActionSelector(epsilon=1, selector=selector)\n",
    "agent = ptan.agent.DQNAgent(net, selector)\n",
    "exp_source = ptan.experience.ExperienceSourceFirstLast(env, agent, gamma=GAMMA)\n",
    "buffer = ptan.experience.ExperienceReplayBuffer(exp_source, buffer_size=REPLAY_SIZE)\n",
    "optimizer = optim.Adam(net.parameters(), LR)"
   ]
  },
  {
   "cell_type": "code",
   "execution_count": 7,
   "id": "floating-albany",
   "metadata": {},
   "outputs": [],
   "source": [
    "step = 0\n",
    "episode = 0\n",
    "solved = False"
   ]
  },
  {
   "cell_type": "code",
   "execution_count": 8,
   "id": "beneficial-belief",
   "metadata": {
    "scrolled": true
   },
   "outputs": [
    {
     "name": "stdout",
     "output_type": "stream",
     "text": [
      "17: episode 1 done, reward=16.000, epsilon=1.00\n",
      "44: episode 2 done, reward=27.000, epsilon=0.89\n",
      "85: episode 3 done, reward=41.000, epsilon=0.59\n",
      "100: episode 4 done, reward=15.000, epsilon=0.50\n",
      "121: episode 5 done, reward=21.000, epsilon=0.41\n",
      "136: episode 6 done, reward=15.000, epsilon=0.35\n",
      "147: episode 7 done, reward=11.000, epsilon=0.31\n",
      "159: episode 8 done, reward=12.000, epsilon=0.28\n",
      "171: episode 9 done, reward=12.000, epsilon=0.25\n",
      "185: episode 10 done, reward=14.000, epsilon=0.21\n",
      "201: episode 11 done, reward=16.000, epsilon=0.18\n",
      "215: episode 12 done, reward=14.000, epsilon=0.16\n",
      "225: episode 13 done, reward=10.000, epsilon=0.14\n",
      "240: episode 14 done, reward=15.000, epsilon=0.12\n",
      "252: episode 15 done, reward=12.000, epsilon=0.11\n",
      "265: episode 16 done, reward=13.000, epsilon=0.10\n",
      "279: episode 17 done, reward=14.000, epsilon=0.08\n",
      "292: episode 18 done, reward=13.000, epsilon=0.07\n",
      "302: episode 19 done, reward=10.000, epsilon=0.07\n",
      "315: episode 20 done, reward=13.000, epsilon=0.06\n",
      "324: episode 21 done, reward=9.000, epsilon=0.05\n",
      "332: episode 22 done, reward=8.000, epsilon=0.05\n",
      "344: episode 23 done, reward=12.000, epsilon=0.04\n",
      "355: episode 24 done, reward=11.000, epsilon=0.04\n",
      "367: episode 25 done, reward=12.000, epsilon=0.03\n",
      "381: episode 26 done, reward=14.000, epsilon=0.03\n",
      "392: episode 27 done, reward=11.000, epsilon=0.03\n",
      "403: episode 28 done, reward=11.000, epsilon=0.02\n",
      "417: episode 29 done, reward=14.000, epsilon=0.02\n",
      "430: episode 30 done, reward=13.000, epsilon=0.02\n",
      "447: episode 31 done, reward=17.000, epsilon=0.02\n",
      "460: episode 32 done, reward=13.000, epsilon=0.01\n",
      "470: episode 33 done, reward=10.000, epsilon=0.01\n",
      "479: episode 34 done, reward=9.000, epsilon=0.01\n",
      "509: episode 35 done, reward=30.000, epsilon=0.01\n",
      "524: episode 36 done, reward=15.000, epsilon=0.01\n",
      "533: episode 37 done, reward=9.000, epsilon=0.01\n",
      "542: episode 38 done, reward=9.000, epsilon=0.01\n",
      "552: episode 39 done, reward=10.000, epsilon=0.01\n",
      "576: episode 40 done, reward=24.000, epsilon=0.00\n",
      "586: episode 41 done, reward=10.000, epsilon=0.00\n",
      "595: episode 42 done, reward=9.000, epsilon=0.00\n",
      "653: episode 43 done, reward=58.000, epsilon=0.00\n",
      "706: episode 44 done, reward=53.000, epsilon=0.00\n",
      "749: episode 45 done, reward=43.000, epsilon=0.00\n",
      "836: episode 46 done, reward=87.000, epsilon=0.00\n",
      "852: episode 47 done, reward=16.000, epsilon=0.00\n",
      "886: episode 48 done, reward=34.000, epsilon=0.00\n",
      "919: episode 49 done, reward=33.000, epsilon=0.00\n",
      "958: episode 50 done, reward=39.000, epsilon=0.00\n",
      "1073: episode 51 done, reward=115.000, epsilon=0.00\n",
      "1096: episode 52 done, reward=23.000, epsilon=0.00\n",
      "1122: episode 53 done, reward=26.000, epsilon=0.00\n",
      "1140: episode 54 done, reward=18.000, epsilon=0.00\n",
      "1174: episode 55 done, reward=34.000, epsilon=0.00\n",
      "1189: episode 56 done, reward=15.000, epsilon=0.00\n",
      "1247: episode 57 done, reward=58.000, epsilon=0.00\n",
      "1278: episode 58 done, reward=31.000, epsilon=0.00\n",
      "1297: episode 59 done, reward=19.000, epsilon=0.00\n",
      "1312: episode 60 done, reward=15.000, epsilon=0.00\n",
      "1328: episode 61 done, reward=16.000, epsilon=0.00\n",
      "1349: episode 62 done, reward=21.000, epsilon=0.00\n",
      "1387: episode 63 done, reward=38.000, epsilon=0.00\n",
      "1406: episode 64 done, reward=19.000, epsilon=0.00\n",
      "1434: episode 65 done, reward=28.000, epsilon=0.00\n",
      "1508: episode 66 done, reward=74.000, epsilon=0.00\n",
      "1537: episode 67 done, reward=29.000, epsilon=0.00\n",
      "1548: episode 68 done, reward=11.000, epsilon=0.00\n",
      "1559: episode 69 done, reward=11.000, epsilon=0.00\n",
      "1603: episode 70 done, reward=44.000, epsilon=0.00\n",
      "1646: episode 71 done, reward=43.000, epsilon=0.00\n",
      "1666: episode 72 done, reward=20.000, epsilon=0.00\n",
      "1714: episode 73 done, reward=48.000, epsilon=0.00\n",
      "1744: episode 74 done, reward=30.000, epsilon=0.00\n",
      "1787: episode 75 done, reward=43.000, epsilon=0.00\n",
      "1829: episode 76 done, reward=42.000, epsilon=0.00\n",
      "1858: episode 77 done, reward=29.000, epsilon=0.00\n",
      "1942: episode 78 done, reward=84.000, epsilon=0.00\n",
      "2004: episode 79 done, reward=62.000, epsilon=0.00\n",
      "2054: episode 80 done, reward=50.000, epsilon=0.00\n",
      "2105: episode 81 done, reward=51.000, epsilon=0.00\n",
      "2154: episode 82 done, reward=49.000, epsilon=0.00\n",
      "2205: episode 83 done, reward=51.000, epsilon=0.00\n",
      "2255: episode 84 done, reward=50.000, epsilon=0.00\n",
      "2320: episode 85 done, reward=65.000, epsilon=0.00\n",
      "2367: episode 86 done, reward=47.000, epsilon=0.00\n",
      "2436: episode 87 done, reward=69.000, epsilon=0.00\n",
      "2491: episode 88 done, reward=55.000, epsilon=0.00\n",
      "2590: episode 89 done, reward=99.000, epsilon=0.00\n",
      "2674: episode 90 done, reward=84.000, epsilon=0.00\n",
      "2736: episode 91 done, reward=62.000, epsilon=0.00\n",
      "2869: episode 92 done, reward=133.000, epsilon=0.00\n",
      "2980: episode 93 done, reward=111.000, epsilon=0.00\n",
      "3180: episode 94 done, reward=200.000, epsilon=0.00\n",
      "Congrats!\n"
     ]
    }
   ],
   "source": [
    "while True:\n",
    "    step += 1\n",
    "    buffer.populate(1)\n",
    "\n",
    "    for reward, steps in exp_source.pop_rewards_steps():\n",
    "        episode += 1\n",
    "        print(\"%d: episode %d done, reward=%.3f, epsilon=%.2f\" % (\n",
    "            step, episode, reward, selector.epsilon))\n",
    "        solved = reward > 150\n",
    "    if solved:\n",
    "        print(\"Congrats!\")\n",
    "        break\n",
    "\n",
    "    if len(buffer) < 2*BATCH_SIZE:\n",
    "        continue\n",
    "\n",
    "    batch = buffer.sample(BATCH_SIZE)\n",
    "    states_v, actions_v, tgt_q_v = unpack_batch(\n",
    "        batch, tgt_net.target_model, GAMMA)\n",
    "    optimizer.zero_grad()\n",
    "    q_v = net(states_v)\n",
    "    q_v = q_v.gather(1, actions_v.unsqueeze(-1)).squeeze(-1)\n",
    "    loss_v = F.mse_loss(q_v, tgt_q_v)\n",
    "    loss_v.backward()\n",
    "    optimizer.step()\n",
    "    selector.epsilon *= EPS_DECAY\n",
    "\n",
    "    if step % TGT_NET_SYNC == 0:\n",
    "        tgt_net.sync()"
   ]
  }
 ],
 "metadata": {
  "kernelspec": {
   "display_name": "Python 3",
   "language": "python",
   "name": "python3"
  },
  "language_info": {
   "codemirror_mode": {
    "name": "ipython",
    "version": 3
   },
   "file_extension": ".py",
   "mimetype": "text/x-python",
   "name": "python",
   "nbconvert_exporter": "python",
   "pygments_lexer": "ipython3",
   "version": "3.7.9"
  }
 },
 "nbformat": 4,
 "nbformat_minor": 5
}
